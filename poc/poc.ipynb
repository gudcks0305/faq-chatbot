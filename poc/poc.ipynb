{
 "cells": [
  {
   "cell_type": "code",
   "id": "initial_id",
   "metadata": {
    "collapsed": true,
    "ExecuteTime": {
     "end_time": "2024-12-07T02:28:13.445391Z",
     "start_time": "2024-12-07T02:28:11.953122Z"
    }
   },
   "source": [
    "# Step 1: 환경 변수 및 패키지 로드\n",
    "import os\n",
    "import pickle\n",
    "import json\n",
    "from pymilvus import connections, CollectionSchema, FieldSchema, DataType, Collection\n",
    "from dotenv import load_dotenv\n",
    "import openai\n",
    "from openai.types import CreateEmbeddingResponse, Embedding\n",
    "\n",
    "\n",
    "def load_environment_variables():\n",
    "    load_dotenv()\n",
    "    openai.api_key = os.getenv(\"OPEN_API_KEY\")\n",
    "\n",
    "load_environment_variables()\n"
   ],
   "outputs": [],
   "execution_count": 4
  },
  {
   "metadata": {
    "ExecuteTime": {
     "end_time": "2024-12-07T02:29:24.089983Z",
     "start_time": "2024-12-07T02:29:24.032953Z"
    }
   },
   "cell_type": "code",
   "source": [
    "# Step 2: Milvus 연결 및 데이터 로드\n",
    "def connect_to_milvus():\n",
    "    connections.connect(alias=\"default\", host=\"localhost\", port=\"19530\")\n",
    "\n",
    "def load_data(file_path):\n",
    "    with open(file_path, 'rb') as file:\n",
    "        return pickle.load(file)\n",
    "\n",
    "connect_to_milvus()\n",
    "raw_data = load_data('../final_result.pkl')\n"
   ],
   "id": "b0fa1e8cd72fe247",
   "outputs": [],
   "execution_count": 8
  },
  {
   "metadata": {
    "ExecuteTime": {
     "end_time": "2024-12-07T02:31:40.857185Z",
     "start_time": "2024-12-07T02:31:40.816539Z"
    }
   },
   "cell_type": "code",
   "source": [
    "# Step 3: 데이터 처리 및 저장\n",
    "def process_data(raw_data):\n",
    "    return [{\"question\": k, \"answer\": v} for k, v in raw_data.items()]\n",
    "\n",
    "def save_to_json(data, file_path):\n",
    "    with open(file_path, 'w') as json_file:\n",
    "        json.dump(data, json_file, ensure_ascii=False, indent=4)\n",
    "\n",
    "faqs = process_data(raw_data)\n",
    "save_to_json(faqs, 'faqs.json')\n",
    "\n",
    "print(f\"Sample FAQ: {faqs[0]}\")\n"
   ],
   "id": "aa7f0e7f78c97c41",
   "outputs": [
    {
     "name": "stdout",
     "output_type": "stream",
     "text": [
      "Sample FAQ: {'question': '[가입절차] 스마트스토어센터 회원가입은 어떻게 하나요? (ID만들기)', 'answer': '네이버 커머스 ID 하나로 스마트스토어센터와 같은 네이버의 다양한 커머스 서비스를 편리하게 이용하실 수 있습니다.네이버 커머스 ID가 없으시다면 [가입하기] 버튼을 통해 회원가입해 주세요.\\xa0\\xa0 \\xa0 \\xa0 \\xa0 \\xa0\\xa01. \\'네이버ID\\' 로 네이버 커머스 ID 가입하기1) [네이버 아이디로 가입하기] 버튼을 눌러서 네이버 로그인 해 주세요.2) 연락가능한 휴대폰번호를 입력하시고 인증하신 후 개인정보 수집동의를 체크 하여 [가입] 버튼을 눌러주세요.\\xa03) 네이버 커머스 ID 회원가입이 완료되어 해당 네이버ID 로 스마트스토어센터 서비스 가입을 하실 수 있습니다.\\xa0이 후 스마트스토어센터 로그인 시에 [네이버 아이디로 로그인] 버튼을 눌러서 네이버 로그인을 하실 수 있습니다.\\xa02. \\'이메일 아이디\\'로 네이버 커머스 ID 가입하기\\xa01) [이메일 아이디로 가입하기] 버튼을 눌러서 사용할 ID를 입력해 주세요.! 중요. 로그인 ID는 \"실 사용중인 이메일주소\"로 기재하셔야 합니다. (예 : abc@naver.com)2) 연락가능한 휴대폰번호와 이메일주소를 입력하시고 인증하신 후 개인정보 수집동의를 체크 하여 [가입] 버튼을 눌러주세요.3) 네이버 커머스 ID 회원가입이 완료되어 해당 이메일 아이디로 스마트스토어센터 서비스 가입을 하실 수 있습니다.이 후 스마트스토어센터 로그인 시에 해당 이메일 아이디와 비밀번호를 입력하여 로그인을 하실 수 있습니다.\\xa0※ 참고. 로그인 ID 계정 대표자와 사업자번호 대표자 동일여부는 체크하지 않습니다. (대표자가 상이해도 가입 진행 가능합니다.)\\xa0 \\xa0\\xa0 \\xa0 \\xa0 \\xa0 \\xa0\\xa0\\n\\n\\n위 도움말이 도움이 되었나요?\\n\\n\\n별점1점\\n\\n별점2점\\n\\n별점3점\\n\\n별점4점\\n\\n별점5점\\n\\n\\n\\n소중한 의견을 남겨주시면 보완하도록 노력하겠습니다.\\n\\n보내기\\n\\n\\n\\n관련 도움말/키워드\\n\\n스마트스토어 로그인ID(매니저)를 추가하거나 변경할 수 없나요?\\n네이버 커머스 ID 전환 이후, 이전 아이디로 로그인이 불가한가요?\\n네이버 커머스 ID 전환 후 로그인이 되지 않아요.\\n\\n\\n\\n도움말 닫기'}\n"
     ]
    }
   ],
   "execution_count": 14
  },
  {
   "metadata": {
    "ExecuteTime": {
     "end_time": "2024-12-07T02:29:29.334457Z",
     "start_time": "2024-12-07T02:29:28.786219Z"
    }
   },
   "cell_type": "code",
   "source": [
    "# Step 4: Milvus 컬렉션 정의 및 생성\n",
    "def define_collection_schema():\n",
    "    fields = [\n",
    "        FieldSchema(name=\"faq_id\", dtype=DataType.INT64, is_primary=True, auto_id=True),\n",
    "        FieldSchema(name=\"embedding\", dtype=DataType.FLOAT_VECTOR, dim=1536),\n",
    "        FieldSchema(name=\"faq\", dtype=DataType.JSON),\n",
    "    ]\n",
    "    return CollectionSchema(fields, description=\"FAQ collection\")\n",
    "\n",
    "def create_collection(schema):\n",
    "    collection = Collection(\"faq_collection\", schema)\n",
    "    index_params = {\n",
    "        \"index_type\": \"IVF_FLAT\",\n",
    "        \"metric_type\": \"IP\",\n",
    "        \"params\": {\"nlist\": 128}\n",
    "    }\n",
    "    collection.create_index(field_name=\"embedding\", index_params=index_params)\n",
    "    return collection\n",
    "\n",
    "schema = define_collection_schema()\n",
    "collection = create_collection(schema)\n"
   ],
   "id": "d635ea11bdef0a0a",
   "outputs": [],
   "execution_count": 9
  },
  {
   "metadata": {
    "ExecuteTime": {
     "end_time": "2024-12-07T02:53:24.939371Z",
     "start_time": "2024-12-07T02:31:48.906921Z"
    }
   },
   "cell_type": "code",
   "source": [
    "# Step 5: 임베딩 생성 및 데이터 삽입 (수정)\n",
    "def generate_embeddings(questions):\n",
    "    embeddings = []\n",
    "    for question in questions:\n",
    "        response: CreateEmbeddingResponse = openai.embeddings.create(\n",
    "            model=\"text-embedding-ada-002\",\n",
    "            input=question\n",
    "        )\n",
    "        embedding = response.data\n",
    "        embeddings.append(embedding)\n",
    "    return embeddings\n",
    "\n",
    "# 질문 및 FAQ 데이터 제한\n",
    "questions = [faq[\"question\"] for faq in faqs]\n",
    "faqs_limited = faqs\n",
    "\n",
    "# 임베딩 생성\n",
    "embeddings = generate_embeddings(questions)\n",
    "\n",
    "\n"
   ],
   "id": "f3fda3c7f9287627",
   "outputs": [],
   "execution_count": 15
  },
  {
   "metadata": {
    "ExecuteTime": {
     "end_time": "2024-12-07T02:53:44.012611Z",
     "start_time": "2024-12-07T02:53:42.390795Z"
    }
   },
   "cell_type": "code",
   "source": [
    "\n",
    "entities = [\n",
    "    {\n",
    "        \"embedding\": embedding[0].embedding,\n",
    "        \"faq\": faq\n",
    "    } for embedding, faq in zip(embeddings, faqs_limited)\n",
    "]\n",
    "\n",
    "# 데이터 삽입\n",
    "collection.insert(entities)"
   ],
   "id": "77d241b62d0648c8",
   "outputs": [
    {
     "data": {
      "text/plain": [
       "(insert count: 2717, delete count: 0, upsert count: 0, timestamp: 454437115934015490, success count: 2717, err count: 0"
      ]
     },
     "execution_count": 17,
     "metadata": {},
     "output_type": "execute_result"
    }
   ],
   "execution_count": 17
  },
  {
   "metadata": {
    "ExecuteTime": {
     "end_time": "2024-12-06T12:55:14.539411Z",
     "start_time": "2024-12-06T12:55:14.535569Z"
    }
   },
   "cell_type": "code",
   "source": [
    "# Step 6: 컬렉션 정보 출력\n",
    "def print_collection_info(collection):\n",
    "    print(\"컬렉션 필드 정보:\")\n",
    "    for field in collection.schema.fields:\n",
    "        print(f\"필드 이름: {field.name}, 데이터 타입: {field.dtype}\")\n",
    "\n",
    "print_collection_info(collection)\n"
   ],
   "id": "7d1e2f3dfe8dac01",
   "outputs": [
    {
     "name": "stdout",
     "output_type": "stream",
     "text": [
      "컬렉션 필드 정보:\n",
      "필드 이름: faq_id, 데이터 타입: 5\n",
      "필드 이름: embedding, 데이터 타입: 101\n",
      "필드 이름: faq, 데이터 타입: 23\n"
     ]
    }
   ],
   "execution_count": 25
  },
  {
   "metadata": {
    "ExecuteTime": {
     "end_time": "2024-12-06T12:55:18.029629Z",
     "start_time": "2024-12-06T12:55:17.914059Z"
    }
   },
   "cell_type": "code",
   "source": [
    "# Step 7: 컬렉션 쿼리 및 결과 출력\n",
    "def query_collection(collection):\n",
    "    collection.load()\n",
    "    search_params = {\"metric_type\": \"IP\", \"params\": {\"nprobe\": 10}}\n",
    "    query_vector = collection.query(\n",
    "        expr=\"faq_id >= 0\",\n",
    "        output_fields=[\"embedding\", \"faq\"],\n",
    "        limit=5\n",
    "    )\n",
    "    return query_vector\n",
    "\n",
    "def print_query_results(query_vector):\n",
    "    for result in query_vector:\n",
    "        print(f\"임베딩 데이터: {result['embedding']}\")\n",
    "        print(f\"FAQ 데이터: {result['faq']}\")\n",
    "\n",
    "query_vector = query_collection(collection)\n",
    "print_query_results(query_vector)\n"
   ],
   "id": "d14e05b528317e43",
   "outputs": [
    {
     "name": "stdout",
     "output_type": "stream",
     "text": [
      "임베딩 데이터: [np.float32(0.012372679), np.float32(-0.00065862626), np.float32(0.025401972), np.float32(-0.04781699), np.float32(-0.040117864), np.float32(0.016711485), np.float32(-0.021114666), np.float32(-0.0032991664), np.float32(0.0018298303), np.float32(0.0011128652), np.float32(0.014934763), np.float32(-0.0012206916), np.float32(-0.01610637), np.float32(-0.019505316), np.float32(0.0040233736), np.float32(0.020638298), np.float32(0.0076605035), np.float32(-0.005967468), np.float32(0.025543595), np.float32(-0.011941373), np.float32(-0.0075253183), np.float32(0.0065532713), np.float32(-0.004834486), np.float32(-0.012746048), np.float32(0.009405038), np.float32(-0.004638145), np.float32(0.01422665), np.float32(-0.017419599), np.float32(0.0025685218), np.float32(0.00096078165), np.float32(0.012314742), np.float32(-0.0041006226), np.float32(-0.011658128), np.float32(-0.015372506), np.float32(-0.011304071), np.float32(0.024603736), np.float32(-0.013724533), np.float32(-0.009900718), np.float32(0.009334227), np.float32(-0.034375705), np.float32(0.008754862), np.float32(0.008059623), np.float32(0.009565974), np.float32(-0.018797202), np.float32(0.013467037), np.float32(0.019183446), np.float32(-0.025028603), np.float32(-0.015089261), np.float32(0.0014693361), np.float32(0.024256116), np.float32(-0.009282728), np.float32(0.0018201743), np.float32(-0.025118727), np.float32(0.0026779575), np.float32(-0.012533614), np.float32(0.007917999), np.float32(0.0014669221), np.float32(-0.0015892326), np.float32(-0.010480084), np.float32(-0.033706218), np.float32(0.005787221), np.float32(0.008890047), np.float32(-0.020895794), np.float32(0.007306447), np.float32(-0.0035051634), np.float32(-0.01115601), np.float32(-0.007943749), np.float32(-0.0064760223), np.float32(-0.0316205), np.float32(0.0029917806), np.float32(0.00014926717), np.float32(0.04300182), np.float32(0.007293572), np.float32(-0.0038141583), np.float32(0.020792795), np.float32(-0.0025990994), np.float32(0.02568522), np.float32(-0.011658128), np.float32(-0.006031842), np.float32(-0.0014242743), np.float32(0.002620021), np.float32(-0.016917482), np.float32(-0.01167744), np.float32(0.04544803), np.float32(0.0040459046), np.float32(0.018822951), np.float32(-0.011954248), np.float32(0.020973044), np.float32(-0.022440769), np.float32(-0.013492786), np.float32(0.022904262), np.float32(0.017522598), np.float32(-0.0135185355), np.float32(0.011671003), np.float32(-0.012012185), np.float32(0.0024719608), np.float32(-0.005529725), np.float32(0.00048280484), np.float32(0.0024623047), np.float32(-0.021951528), np.float32(-0.013074355), np.float32(0.02488698), np.float32(-0.026058588), np.float32(-0.0037304722), np.float32(-0.01667286), np.float32(-0.007821439), np.float32(-0.002122732), np.float32(-0.018681329), np.float32(0.023741124), np.float32(0.003278245), np.float32(-0.005400977), np.float32(0.021140415), np.float32(0.0013655331), np.float32(-0.01919632), np.float32(-0.0067657055), np.float32(-0.004789424), np.float32(-0.020947292), np.float32(-0.01328679), np.float32(-0.028633546), np.float32(-0.010344898), np.float32(0.024719609), np.float32(0.019131947), np.float32(0.016183618), np.float32(0.010409272), np.float32(0.03089951), np.float32(-0.0076733786), np.float32(-0.009437226), np.float32(-0.014728767), np.float32(0.023548001), np.float32(-0.026444832), np.float32(0.036384173), np.float32(-0.0078793755), np.float32(0.015951872), np.float32(0.011761126), np.float32(-0.018964576), np.float32(-0.025968464), np.float32(0.025157351), np.float32(0.007383696), np.float32(-0.035817683), np.float32(-0.039602872), np.float32(0.033294223), np.float32(-0.005944937), np.float32(0.017277976), np.float32(-0.023573752), np.float32(0.016492615), np.float32(0.02901979), np.float32(0.027423317), np.float32(0.013035731), np.float32(-0.007377258), np.float32(-0.004950359), np.float32(-0.0066498322), np.float32(-0.0014291024), np.float32(0.024680983), np.float32(0.004399962), np.float32(0.016711485), np.float32(0.023573752), np.float32(0.0019778905), np.float32(0.0035663184), np.float32(0.004837705), np.float32(-0.019852936), np.float32(-0.0032541046), np.float32(0.01830796), np.float32(0.00068115717), np.float32(-0.03406671), np.float32(0.0034826323), np.float32(0.03460745), np.float32(-0.0060801227), np.float32(0.0037401284), np.float32(-0.016647112), np.float32(0.0074673817), np.float32(-0.028942542), np.float32(0.011510068), np.float32(-0.007757065), np.float32(0.016415365), np.float32(-0.017857343), np.float32(0.014007778), np.float32(-0.011561567), np.float32(-0.00695239), np.float32(-0.011928499), np.float32(-0.017754344), np.float32(-0.014406897), np.float32(-0.017496848), np.float32(-0.0012609253), np.float32(0.019981684), np.float32(0.0054041957), np.float32(-0.006170246), np.float32(-0.00014826133), np.float32(0.014136526), np.float32(0.0023126353), np.float32(-0.0016511925), np.float32(0.00450296), np.float32(0.031182757), np.float32(0.015308132), np.float32(0.005793658), np.float32(-0.6171662), np.float32(-0.00035486158), np.float32(0.033062477), np.float32(-0.0003938883), np.float32(0.010924265), np.float32(0.016389616), np.float32(0.0040265927), np.float32(0.020599674), np.float32(-0.029560532), np.float32(0.021088917), np.float32(0.01704623), np.float32(0.023548001), np.float32(-0.008626114), np.float32(0.0026795669), np.float32(-0.027449066), np.float32(-0.0205868), np.float32(0.020689797), np.float32(-0.007293572), np.float32(0.005529725), np.float32(0.0019102979), np.float32(-0.01935082), np.float32(0.008703362), np.float32(-0.018101964), np.float32(0.019119073), np.float32(0.005172449), np.float32(0.026934074), np.float32(0.033191223), np.float32(-0.00959816), np.float32(-0.028865293), np.float32(0.01061527), np.float32(-0.005400977), np.float32(0.011709627), np.float32(0.017496848), np.float32(0.006105872), np.float32(0.0378519), np.float32(-0.0070747007), np.float32(-0.024603736), np.float32(0.04300182), np.float32(-0.016273743), np.float32(0.043362312), np.float32(-0.018436708), np.float32(-0.013814656), np.float32(0.039345376), np.float32(-0.016904607), np.float32(0.014097902), np.float32(0.0035373503), np.float32(-0.01892595), np.float32(-0.016144995), np.float32(-0.0069008907), np.float32(-0.00623462), np.float32(-0.008954421), np.float32(-0.014625768), np.float32(0.002459086), np.float32(0.02899404), np.float32(0.008413679), np.float32(0.019028949), np.float32(0.009063857), np.float32(0.0010356164), np.float32(0.0017348788), np.float32(0.02372825), np.float32(-0.0008674394), np.float32(0.011162449), np.float32(-0.03089951), np.float32(-0.017973216), np.float32(-0.02367675), np.float32(0.032341488), np.float32(-0.022968637), np.float32(-0.015977621), np.float32(-0.01707198), np.float32(-0.014780266), np.float32(0.014600019), np.float32(-0.0015683111), np.float32(-0.015102136), np.float32(0.016595611), np.float32(0.00017049046), np.float32(0.032392986), np.float32(0.040195115), np.float32(0.021616783), np.float32(0.0010549286), np.float32(0.0053752274), np.float32(-0.0078150015), np.float32(0.0043581184), np.float32(0.0061251842), np.float32(-0.005635942), np.float32(-0.016492615), np.float32(0.010351336), np.float32(-0.018333709), np.float32(-0.038881883), np.float32(0.008967295), np.float32(-0.006971702), np.float32(0.037594404), np.float32(-0.0025363348), np.float32(0.0103706485), np.float32(-0.028041307), np.float32(-0.020046057), np.float32(0.01570725), np.float32(0.0026473799), np.float32(0.0051821056), np.float32(0.0006175879), np.float32(0.020033183), np.float32(-0.034427203), np.float32(-0.0039622183), np.float32(0.013956279), np.float32(0.010814829), np.float32(0.038856134), np.float32(0.014754516), np.float32(-0.040787354), np.float32(-0.015694376), np.float32(0.049361967), np.float32(-0.008774173), np.float32(0.00094307883), np.float32(0.00019895584), np.float32(-0.017574096), np.float32(0.00062442763), np.float32(-0.02780956), np.float32(-0.02169403), np.float32(-0.00032870963), np.float32(0.0049535776), np.float32(0.0057485965), np.float32(-0.004113497), np.float32(0.0284533), np.float32(-0.033757716), np.float32(0.022183273), np.float32(-0.016029121), np.float32(-0.0059288437), np.float32(0.005774346), np.float32(-0.0040394673), np.float32(-0.017496848), np.float32(-0.004277651), np.float32(0.0029805154), np.float32(-0.013982029), np.float32(-0.033191223), np.float32(0.019466693), np.float32(-0.009688284), np.float32(0.010892077), np.float32(-0.0066562695), np.float32(0.018874452), np.float32(-0.005861251), np.float32(0.010357774), np.float32(-0.010016591), np.float32(0.0015827953), np.float32(-0.010769767), np.float32(0.031208506), np.float32(-0.043259315), np.float32(-0.008516678), np.float32(-0.025414847), np.float32(-0.02026493), np.float32(-0.005211074), np.float32(-0.018681329), np.float32(-0.0016721141), np.float32(-0.008130434), np.float32(-0.013621534), np.float32(-0.004480429), np.float32(0.009765533), np.float32(0.006492116), np.float32(0.0022981511), np.float32(0.012050809), np.float32(-0.025517846), np.float32(-0.011600192), np.float32(-0.006311869), np.float32(-0.011065887), np.float32(0.03221274), np.float32(-0.030796513), np.float32(-0.0069781393), np.float32(-0.0067978925), np.float32(-0.033062477), np.float32(-0.007003889), np.float32(0.0032299645), np.float32(-0.0029612032), np.float32(-0.037414156), np.float32(-0.0035888494), np.float32(-0.025479222), np.float32(-0.013119417), np.float32(0.0083171185), np.float32(0.009379289), np.float32(0.007937312), np.float32(-0.0056616915), np.float32(0.018745704), np.float32(-0.010872765), np.float32(-0.012540052), np.float32(-0.0045383656), np.float32(-0.0075317556), np.float32(-0.0011563177), np.float32(0.0077248774), np.float32(-0.0031929493), np.float32(0.0064631477), np.float32(-0.012636612), np.float32(0.02580109), np.float32(-0.021217665), np.float32(0.005658473), np.float32(-0.007068263), np.float32(0.016865984), np.float32(0.016569862), np.float32(0.01311298), np.float32(0.015385381), np.float32(-0.013595785), np.float32(0.0040265927), np.float32(0.012952045), np.float32(-0.016737236), np.float32(0.028479049), np.float32(0.025028603), np.float32(0.013376913), np.float32(0.017844468), np.float32(-0.024165992), np.float32(0.02026493), np.float32(-0.01326104), np.float32(0.0024703515), np.float32(-0.016260868), np.float32(0.018707078), np.float32(0.014638643), np.float32(-0.004615614), np.float32(-0.015990498), np.float32(0.03404096), np.float32(-0.009353539), np.float32(0.00539454), np.float32(0.010634582), np.float32(-0.005632723), np.float32(0.021925777), np.float32(-0.0064180857), np.float32(0.019724188), np.float32(0.011220384), np.float32(0.021385036), np.float32(0.014574269), np.float32(-0.02330338), np.float32(-0.009874969), np.float32(0.021938652), np.float32(0.027577814), np.float32(0.025788216), np.float32(0.006224964), np.float32(-0.010686081), np.float32(-0.020033183), np.float32(-0.0013325413), np.float32(-0.012836171), np.float32(0.015308132), np.float32(0.021333538), np.float32(0.011400632), np.float32(0.007950187), np.float32(-0.021397911), np.float32(0.0137374075), np.float32(-0.004367775), np.float32(0.010486522), np.float32(0.023509378), np.float32(0.0049535776), np.float32(-0.034349956), np.float32(0.035096694), np.float32(-0.0049922024), np.float32(0.028170055), np.float32(-0.002956375), np.float32(-0.011188198), np.float32(0.013943404), np.float32(-0.017883092), np.float32(0.01185125), np.float32(-0.002108248), np.float32(-0.00853599), np.float32(0.0041424655), np.float32(-0.019453816), np.float32(-0.00029149343), np.float32(0.0082076825), np.float32(-0.01672436), np.float32(0.029200038), np.float32(-0.006511428), np.float32(0.008877172), np.float32(0.001627857), np.float32(-0.001551413), np.float32(0.012205306), np.float32(0.0053655715), np.float32(0.0029209694), np.float32(-0.027989807), np.float32(0.0052239485), np.float32(-0.039911866), np.float32(0.008761299), np.float32(0.010544458), np.float32(-0.011561567), np.float32(0.009096043), np.float32(-0.011754689), np.float32(-0.023148883), np.float32(0.035431437), np.float32(-0.021050291), np.float32(0.002481617), np.float32(0.0072871344), np.float32(-0.011844813), np.float32(-0.014381147), np.float32(0.0046606762), np.float32(0.032907978), np.float32(0.00020720375), np.float32(-0.01828221), np.float32(-0.032933727), np.float32(0.0086583), np.float32(0.00192961), np.float32(0.029663531), np.float32(-0.008123997), np.float32(0.032470237), np.float32(-0.0038238144), np.float32(-0.01865558), np.float32(-0.024706734), np.float32(-0.025286099), np.float32(0.030049775), np.float32(-0.011374882), np.float32(0.03767165), np.float32(0.002602318), np.float32(0.007757065), np.float32(0.00821412), np.float32(-0.01962119), np.float32(-0.039371125), np.float32(0.019981684), np.float32(-0.011020825), np.float32(-0.018166337), np.float32(-0.025813967), np.float32(0.021642532), np.float32(-0.021552408), np.float32(-0.033191223), np.float32(-0.012527176), np.float32(-0.013454162), np.float32(-0.016634237), np.float32(0.0048183925), np.float32(-0.007834313), np.float32(-0.019672688), np.float32(-0.0220674), np.float32(0.023792623), np.float32(0.011510068), np.float32(-0.0016930357), np.float32(-0.013891905), np.float32(0.016286617), np.float32(0.0021259508), np.float32(0.03661592), np.float32(-0.009096043), np.float32(-0.00504692), np.float32(0.018166337), np.float32(-0.027680812), np.float32(0.02837605), np.float32(-0.022724016), np.float32(-0.031002508), np.float32(0.008181933), np.float32(-0.0051499186), np.float32(-0.012707423), np.float32(0.010673206), np.float32(0.01546263), np.float32(-0.024436364), np.float32(0.017265102), np.float32(0.021925777), np.float32(0.014638643), np.float32(-0.0034922885), np.float32(0.009353539), np.float32(-0.014561394), np.float32(-0.0023126353), np.float32(-0.018295085), np.float32(-0.0073386338), np.float32(0.028710796), np.float32(0.020651173), np.float32(0.010570208), np.float32(0.0052464795), np.float32(0.003411821), np.float32(0.016865984), np.float32(-0.028041307), np.float32(-0.009083169), np.float32(-0.012115183), np.float32(-0.026032837), np.float32(-0.007982373), np.float32(0.009269853), np.float32(0.08126571), np.float32(-0.011967123), np.float32(0.026007088), np.float32(-0.0054814443), np.float32(0.017792968), np.float32(0.032341488), np.float32(0.020110432), np.float32(0.007306447), np.float32(0.014072152), np.float32(-0.000534304), np.float32(-0.0025862246), np.float32(0.020342179), np.float32(-0.0071583865), np.float32(0.0072034486), np.float32(0.0009366414), np.float32(-0.009714033), np.float32(0.010492959), np.float32(-0.017702844), np.float32(-0.009733346), np.float32(-0.0062410575), np.float32(0.0049213907), np.float32(-0.012559364), np.float32(-0.016814483), np.float32(-0.0040072803), np.float32(-0.0410706), np.float32(-0.013982029), np.float32(-0.010660331), np.float32(0.0070232013), np.float32(0.026264584), np.float32(-0.009031669), np.float32(-0.025414847), np.float32(-0.0146772675), np.float32(-0.005967468), np.float32(-0.007866501), np.float32(0.00019171376), np.float32(-0.00821412), np.float32(-0.029200038), np.float32(-0.0153338825), np.float32(0.0048892037), np.float32(0.017483974), np.float32(0.02657358), np.float32(0.03602368), np.float32(0.008825673), np.float32(-0.019904435), np.float32(0.014149401), np.float32(-0.006183121), np.float32(-0.011709627), np.float32(0.016930357), np.float32(-0.029998275), np.float32(0.0028244085), np.float32(0.051344685), np.float32(-0.0076605035), np.float32(-0.0020358271), np.float32(-0.009025232), np.float32(0.023548001), np.float32(0.0056391605), np.float32(0.023959996), np.float32(0.006189558), np.float32(-0.032573234), np.float32(0.016788734), np.float32(-0.0044997414), np.float32(0.012437053), np.float32(-0.017290851), np.float32(-0.014291024), np.float32(-0.002615193), np.float32(0.006855829), np.float32(-0.030127022), np.float32(0.0014476099), np.float32(-0.0063279625), np.float32(-0.009495162), np.float32(0.010641019), np.float32(-0.0030255772), np.float32(0.007847188), np.float32(-0.010724705), np.float32(0.024500737), np.float32(-0.004766893), np.float32(-0.007293572), np.float32(0.028479049), np.float32(-0.03677042), np.float32(-0.0041424655), np.float32(0.011368445), np.float32(0.0013132292), np.float32(0.005204636), np.float32(0.024513612), np.float32(-0.008420116), np.float32(-0.0007073091), np.float32(-0.04212633), np.float32(0.02238927), np.float32(0.036873415), np.float32(-0.02461661), np.float32(0.008793485), np.float32(-0.013467037), np.float32(-0.02016193), np.float32(0.00539454), np.float32(-0.00068839925), np.float32(0.00016646709), np.float32(0.027500564), np.float32(-0.012391991), np.float32(-0.0003399751), np.float32(-0.027912557), np.float32(-0.005697097), np.float32(-0.0030223583), np.float32(0.034993697), np.float32(-0.028324552), np.float32(-0.031079758), np.float32(-0.018050464), np.float32(-0.017908841), np.float32(-0.005230386), np.float32(0.0031736372), np.float32(-0.015501254), np.float32(-0.024513612), np.float32(-0.023200383), np.float32(-0.0063569304), np.float32(0.00031060446), np.float32(0.027474815), np.float32(-0.014110777), np.float32(0.016441114), np.float32(-0.016685735), np.float32(-0.015243758), np.float32(0.0033764152), np.float32(-0.03411821), np.float32(-0.02018768), np.float32(-0.002587834), np.float32(0.04660676), np.float32(0.008613239), np.float32(0.00742232), np.float32(0.0049374844), np.float32(0.029354535), np.float32(-0.009334227), np.float32(-0.0022675735), np.float32(-0.0072034486), np.float32(-0.0078793755), np.float32(0.017715719), np.float32(0.016273743), np.float32(0.012874796), np.float32(-0.012919858), np.float32(-0.005069451), np.float32(0.031697746), np.float32(0.021681156), np.float32(-0.022299146), np.float32(0.0347877), np.float32(-0.0012327618), np.float32(-0.008368618), np.float32(-0.0075575053), np.float32(-0.021333538), np.float32(0.007145512), np.float32(-0.018758578), np.float32(0.00047314877), np.float32(-0.02971503), np.float32(-0.03095101), np.float32(-0.0089286715), np.float32(-0.014085027), np.float32(-0.02241502), np.float32(0.036512922), np.float32(-0.0032541046), np.float32(0.008420116), np.float32(-0.035714686), np.float32(0.030152772), np.float32(0.025749592), np.float32(-0.017239353), np.float32(-0.0008996264), np.float32(0.006533959), np.float32(-0.0031334036), np.float32(0.020380802), np.float32(0.026676578), np.float32(0.03159475), np.float32(0.000898017), np.float32(0.00838793), np.float32(0.011696752), np.float32(0.008703362), np.float32(-0.008220557), np.float32(-0.024655234), np.float32(-0.032392986), np.float32(0.005059795), np.float32(0.01696898), np.float32(0.0021420442), np.float32(-0.0284018), np.float32(-0.02209315), np.float32(0.0009937733), np.float32(-0.022273397), np.float32(-0.008761299), np.float32(-0.011793314), np.float32(0.01581025), np.float32(-0.025298974), np.float32(-0.032470237), np.float32(0.00041722387), np.float32(-0.015153635), np.float32(0.01650549), np.float32(0.027706562), np.float32(0.026367582), np.float32(0.009083169), np.float32(0.033139724), np.float32(-0.019440942), np.float32(-0.0017252227), np.float32(-0.014793141), np.float32(-0.015050637), np.float32(0.039525624), np.float32(0.004119935), np.float32(-0.016222242), np.float32(-0.0156171275), np.float32(0.02311026), np.float32(-0.014715892), np.float32(-0.011407069), np.float32(-0.020084683), np.float32(0.033216976), np.float32(0.03221274), np.float32(0.019801436), np.float32(0.011368445), np.float32(0.0048505794), np.float32(-0.022672515), np.float32(0.041868836), np.float32(0.0027149727), np.float32(-0.00526901), np.float32(-0.027165819), np.float32(-0.012462802), np.float32(-0.01088564), np.float32(0.027243068), np.float32(-0.008310681), np.float32(0.024822608), np.float32(0.008432992), np.float32(0.008896484), np.float32(0.0013421975), np.float32(-0.015321007), np.float32(0.0030320145), np.float32(0.0067335186), np.float32(0.0020149057), np.float32(0.012327617), np.float32(0.010241901), np.float32(0.011452131), np.float32(0.009604597), np.float32(0.008915796), np.float32(0.006270026), np.float32(-0.013093668), np.float32(-0.017535472), np.float32(0.031002508), np.float32(0.012005747), np.float32(-0.022788389), np.float32(0.012449928), np.float32(0.0022981511), np.float32(-0.0023222913), np.float32(0.006366587), np.float32(0.0016817702), np.float32(0.0065210843), np.float32(-0.03228999), np.float32(-0.018449582), np.float32(0.015102136), np.float32(-0.029200038), np.float32(0.0026216304), np.float32(-0.009984405), np.float32(0.0035759746), np.float32(0.00081070984), np.float32(-0.0314145), np.float32(-0.0137374075), np.float32(0.030436018), np.float32(0.033113975), np.float32(-0.0064019924), np.float32(-0.014754516), np.float32(-0.017483974), np.float32(0.028916793), np.float32(0.0005403391), np.float32(0.013235291), np.float32(0.023985745), np.float32(0.007280697), np.float32(-0.022453645), np.float32(0.02026493), np.float32(0.019788561), np.float32(0.014767392), np.float32(0.013273914), np.float32(-0.023509378), np.float32(0.0025926621), np.float32(-0.03911363), np.float32(0.03586918), np.float32(0.03350022), np.float32(-0.0028887824), np.float32(-0.0074995686), np.float32(0.00272141), np.float32(-0.025401972), np.float32(0.0058837817), np.float32(-0.006727081), np.float32(-0.006907328), np.float32(-0.00566491), np.float32(0.0148961395), np.float32(0.022324897), np.float32(-0.029869527), np.float32(-0.014638643), np.float32(-0.018810077), np.float32(0.016621362), np.float32(0.0006147715), np.float32(-0.009926468), np.float32(-0.0190032), np.float32(-0.0135829095), np.float32(0.014175151), np.float32(0.0030545455), np.float32(-0.026702328), np.float32(-0.010995076), np.float32(-0.0173166), np.float32(0.0153338825), np.float32(-0.01570725), np.float32(-0.006199214), np.float32(0.013673034), np.float32(-0.013222416), np.float32(-0.013673034), np.float32(-0.00014222626), np.float32(-0.0014291024), np.float32(-0.03798065), np.float32(-0.0005801705), np.float32(0.00853599), np.float32(0.006170246), np.float32(0.024874106), np.float32(0.00080346776), np.float32(-0.013930529), np.float32(-0.030358769), np.float32(-0.032392986), np.float32(-0.0050565763), np.float32(-0.023741124), np.float32(-0.02016193), np.float32(0.05185968), np.float32(0.003550225), np.float32(-0.017252227), np.float32(-0.024706734), np.float32(-0.005133825), np.float32(-0.03713091), np.float32(0.011844813), np.float32(0.02177128), np.float32(0.018616956), np.float32(-0.006514647), np.float32(0.020496676), np.float32(-0.021346413), np.float32(0.0076411916), np.float32(-0.014419772), np.float32(0.01608062), np.float32(-0.01862983), np.float32(0.0028742983), np.float32(-0.0037690965), np.float32(-0.019157697), np.float32(-0.0032058242), np.float32(0.018423833), np.float32(-0.031903744), np.float32(0.0012802376), np.float32(0.0054943194), np.float32(-0.0065178657), np.float32(0.009694722), np.float32(0.023663875), np.float32(-0.014973388), np.float32(-0.0035888494), np.float32(0.036100928), np.float32(-0.0053430405), np.float32(-0.0189517), np.float32(-0.007506006), np.float32(0.015282383), np.float32(-0.017059105), np.float32(0.016441114), np.float32(0.003048108), np.float32(-0.0023255101), np.float32(9.651068e-05), np.float32(0.0030304051), np.float32(0.0049889833), np.float32(-0.0039654374), np.float32(0.007209886), np.float32(0.029843777), np.float32(-0.008072497), np.float32(0.00932779), np.float32(0.0007350704), np.float32(0.011979998), np.float32(0.010325586), np.float32(0.005761471), np.float32(0.0069588274), np.float32(-0.02426899), np.float32(0.008632551), np.float32(-0.022221899), np.float32(0.021436535), np.float32(-0.008716237), np.float32(-0.007789252), np.float32(0.0067850174), np.float32(-0.03288223), np.float32(0.026213085), np.float32(-0.0173681), np.float32(0.002108248), np.float32(-0.009244104), np.float32(-0.017767219), np.float32(-0.011542255), np.float32(0.002513804), np.float32(-0.013956279), np.float32(0.0074995686), np.float32(-0.014007778), np.float32(-0.019299319), np.float32(0.004020155), np.float32(-0.0017155666), np.float32(-0.030564766), np.float32(-0.0060608103), np.float32(-0.019737063), np.float32(0.0147416415), np.float32(0.0019006418), np.float32(-0.01011959), np.float32(0.022865638), np.float32(-0.0032283552), np.float32(0.0015168119), np.float32(-0.010055216), np.float32(-0.0012746048), np.float32(0.029354535), np.float32(0.010628144), np.float32(0.25440598), np.float32(-0.019234946), np.float32(-0.021900028), np.float32(0.024835482), np.float32(0.006682019), np.float32(0.021861404), np.float32(0.024474988), np.float32(-0.008973733), np.float32(-0.01053802), np.float32(0.002246652), np.float32(-0.017239353), np.float32(0.0042519015), np.float32(0.014574269), np.float32(-0.0048505794), np.float32(0.0006984577), np.float32(-0.04369706), np.float32(-0.010750455), np.float32(-0.016003372), np.float32(-0.0013792125), np.float32(-0.021977277), np.float32(0.017174978), np.float32(-0.0035663184), np.float32(-0.028324552), np.float32(-0.0204323), np.float32(0.025067229), np.float32(0.00086422067), np.float32(-0.009269853), np.float32(0.016659986), np.float32(0.021629658), np.float32(0.022827014), np.float32(-0.027964057), np.float32(0.017406724), np.float32(0.020007433), np.float32(0.0014154229), np.float32(-0.0010943577), np.float32(-0.014265274), np.float32(0.018938825), np.float32(0.010351336), np.float32(0.02783531), np.float32(0.036126677), np.float32(-0.00742232), np.float32(0.026625078), np.float32(-0.014406897), np.float32(-0.013048606), np.float32(-0.017818717), np.float32(-0.0043355874), np.float32(-0.008703362), np.float32(0.0042840885), np.float32(-0.034478705), np.float32(0.01279111), np.float32(-0.019827185), np.float32(-0.02904554), np.float32(0.006662707), np.float32(0.02023918), np.float32(0.0126430495), np.float32(0.015835999), np.float32(-0.024668109), np.float32(-0.016016247), np.float32(-0.0015192259), np.float32(0.0044353674), np.float32(0.011484318), np.float32(0.030616265), np.float32(-0.028144304), np.float32(0.018243587), np.float32(-0.027268818), np.float32(-0.01605487), np.float32(-0.022453645), np.float32(0.0052239485), np.float32(0.0008923843), np.float32(-0.01244349), np.float32(-0.0033410096), np.float32(-0.0054556946), np.float32(-0.027088571), np.float32(-0.0023045884), np.float32(-0.04606602), np.float32(-0.032933727), np.float32(0.025453473), np.float32(0.023419254), np.float32(0.033834964), np.float32(0.04032386), np.float32(-0.027577814), np.float32(-0.0053301654), np.float32(-0.00016073378), np.float32(-0.0060994346), np.float32(0.0015707251), np.float32(0.0014540473), np.float32(0.022453645), np.float32(0.00017391033), np.float32(-0.0037690965), np.float32(-0.0039268127), np.float32(0.009804158), np.float32(0.032573234), np.float32(-0.01355716), np.float32(-0.010158214), np.float32(-0.016544113), np.float32(-0.02335488), np.float32(0.02585259), np.float32(0.032032494), np.float32(-0.01640249), np.float32(0.013827531), np.float32(0.0146772675), np.float32(0.047070254), np.float32(0.03391221), np.float32(0.012919858), np.float32(-0.010454334), np.float32(0.009115356), np.float32(-0.0016037168), np.float32(0.0039944053), np.float32(0.007151949), np.float32(-0.017213602), np.float32(-0.0007563943), np.float32(-0.014445521), np.float32(0.010435022), np.float32(0.0019360475), np.float32(-0.01481889), np.float32(0.017574096), np.float32(0.019981684), np.float32(-0.024062995), np.float32(-0.0010179136), np.float32(-0.02330338), np.float32(0.017702844), np.float32(-0.009720471), np.float32(-0.021050291), np.float32(0.011439256), np.float32(0.024655234), np.float32(-0.01155513), np.float32(0.0016399272), np.float32(-0.003646786), np.float32(-0.005230386), np.float32(-0.041302346), np.float32(0.0045158346), np.float32(0.010087403), np.float32(0.023123134), np.float32(-0.027294569), np.float32(-0.01635099), np.float32(-0.0023882748), np.float32(0.025414847), np.float32(-0.0062925564), np.float32(-0.003194559), np.float32(0.009714033), np.float32(0.0126688), np.float32(-0.0050662323), np.float32(0.0007555896), np.float32(-0.019157697), np.float32(-0.0041585593), np.float32(-0.043645557), np.float32(0.009739784), np.float32(0.011606629), np.float32(-0.005806533), np.float32(-0.009359977), np.float32(-0.0077055655), np.float32(-0.008542427), np.float32(-0.015243758), np.float32(-0.0068687038), np.float32(0.027603563), np.float32(0.0102612125), np.float32(-0.031054009), np.float32(-0.024011495), np.float32(0.012559364), np.float32(-0.0037562218), np.float32(-0.0040298114), np.float32(-0.010705393), np.float32(0.03586918), np.float32(-0.020200554), np.float32(-0.033654716), np.float32(0.002159747), np.float32(-0.16139844), np.float32(0.011020825), np.float32(0.040246613), np.float32(-0.0144583965), np.float32(0.009714033), np.float32(0.010892077), np.float32(0.018604081), np.float32(0.0007475428), np.float32(-0.037208162), np.float32(0.0189517), np.float32(0.024359114), np.float32(-0.020316428), np.float32(-0.029663531), np.float32(0.0053655715), np.float32(0.0050340453), np.float32(0.01796034), np.float32(-0.016865984), np.float32(0.016518364), np.float32(0.03715666), np.float32(-0.011812625), np.float32(0.035251193), np.float32(-0.004950359), np.float32(0.00363713), np.float32(0.03671892), np.float32(-0.0034472267), np.float32(-0.010550896), np.float32(-0.026856825), np.float32(-0.003048108), np.float32(-0.011954248), np.float32(-0.010138902), np.float32(0.001726832), np.float32(-0.0039396877), np.float32(0.017226478), np.float32(-0.00025427723), np.float32(0.0038334706), np.float32(-0.008935109), np.float32(-0.0064985533), np.float32(-0.006855829), np.float32(-0.010364211), np.float32(0.024204617), np.float32(0.0017236134), np.float32(0.027474815), np.float32(0.022994386), np.float32(0.016415365), np.float32(0.012540052), np.float32(0.010776204), np.float32(0.009424351), np.float32(-0.00088836096), np.float32(-0.0059867804), np.float32(-0.016466863), np.float32(0.029766528), np.float32(-0.026393332), np.float32(-0.015642878), np.float32(0.02907129), np.float32(0.02453936), np.float32(0.01991731), np.float32(0.005410633), np.float32(-0.0071261995), np.float32(-0.021050291), np.float32(-0.0137374075), np.float32(0.0093213525), np.float32(-0.012391991), np.float32(0.0060608103), np.float32(-0.016531238), np.float32(0.007924437), np.float32(0.011967123), np.float32(-0.0016560206), np.float32(-0.009218354), np.float32(-0.031852245), np.float32(-0.0037658778), np.float32(0.028504798), np.float32(-0.015694376), np.float32(0.0106989555), np.float32(-0.014806015), np.float32(0.008136871), np.float32(0.006875141), np.float32(-0.016453989), np.float32(-0.0044643357), np.float32(-0.0015795765), np.float32(-0.016762985), np.float32(-0.008941546), np.float32(-0.001989156), np.float32(-0.012070121), np.float32(0.0379034), np.float32(-0.009508037), np.float32(0.019299319), np.float32(0.0072678225), np.float32(-0.011915624), np.float32(-0.006389118), np.float32(0.0022659642), np.float32(0.017226478), np.float32(-0.015372506), np.float32(-0.0070618256), np.float32(0.031980995), np.float32(0.0442378), np.float32(0.003881751), np.float32(-0.022698266), np.float32(-0.0011176933), np.float32(0.01071183), np.float32(0.016595611), np.float32(-0.009668972), np.float32(-0.022556642), np.float32(-0.025350474), np.float32(0.021668281), np.float32(0.026856825), np.float32(-0.0029756872), np.float32(0.0025669124), np.float32(-0.00072702364), np.float32(0.022556642), np.float32(0.0010476866), np.float32(-0.0064116484), np.float32(0.027268818), np.float32(0.016531238), np.float32(0.026856825), np.float32(-0.010325586), np.float32(0.04601452), np.float32(-0.02649633), np.float32(-0.028350301), np.float32(-0.004248683), np.float32(0.005977124), np.float32(0.04421205), np.float32(-0.041791588), np.float32(-0.016943231), np.float32(0.04161134), np.float32(-0.0042390265), np.float32(-0.0143940225), np.float32(-0.043207817), np.float32(-0.023097385), np.float32(0.019440942), np.float32(-0.00051700353), np.float32(-0.027062822), np.float32(0.012868359), np.float32(-0.012231057), np.float32(0.017406724), np.float32(-0.020123307), np.float32(0.0056069735), np.float32(-0.035560187), np.float32(-0.045551028), np.float32(-0.0012110355), np.float32(0.0074351947), np.float32(-0.0032396205), np.float32(0.014703017), np.float32(0.0023271195), np.float32(-0.026753826), np.float32(0.0060479357), np.float32(0.0005930453), np.float32(-0.01387903), np.float32(-0.0070103267), np.float32(0.0025492096), np.float32(-0.018719954), np.float32(-0.026831076), np.float32(-0.025865465), np.float32(-0.025157351), np.float32(0.021616783), np.float32(0.023496503), np.float32(0.00058177987), np.float32(-0.0017300508), np.float32(-0.01830796), np.float32(0.004374212), np.float32(-0.0040040617), np.float32(0.0016511925), np.float32(-0.017458223), np.float32(-0.02488698), np.float32(-0.018423833), np.float32(0.019749938), np.float32(0.0033925087), np.float32(-0.0006759268), np.float32(-0.0055265063), np.float32(-0.00045142253), np.float32(-0.015977621), np.float32(0.010145339), np.float32(-0.01244349), np.float32(-0.019028949), np.float32(0.03095101), np.float32(-0.0045641153), np.float32(-0.024977105), np.float32(-0.008909359), np.float32(-0.0074480698), np.float32(-0.031955242), np.float32(-0.022891387), np.float32(0.029225787), np.float32(-0.010428585), np.float32(0.0017075199), np.float32(0.0028388926), np.float32(-0.028865293), np.float32(-0.0040040617), np.float32(-0.00239954), np.float32(-0.0021533098), np.float32(-0.011046575), np.float32(-0.006772143), np.float32(-0.005800096), np.float32(0.016904607), np.float32(-0.019286444), np.float32(0.01677586), np.float32(0.014136526), np.float32(0.011007951), np.float32(0.01838521), np.float32(-0.011600192), np.float32(-0.030642014), np.float32(0.028685046), np.float32(-0.036512922), np.float32(-0.0284018), np.float32(-0.012868359), np.float32(0.0026505988), np.float32(0.0022482614), np.float32(-0.022350647), np.float32(0.0022965418), np.float32(-0.022350647), np.float32(0.0013365648), np.float32(0.008568177), np.float32(-0.011001513), np.float32(0.014316773), np.float32(-0.0070553883), np.float32(0.013840406), np.float32(-0.015346757), np.float32(-0.030616265), np.float32(0.0252346), np.float32(0.02157816), np.float32(-0.0030255772), np.float32(0.012990669), np.float32(-0.024732484), np.float32(0.00045826228), np.float32(-0.024462113), np.float32(0.0029113132), np.float32(0.022402145), np.float32(0.012218182), np.float32(0.004512616), np.float32(-0.016621362), np.float32(-0.086930625), np.float32(0.010769767), np.float32(0.020046057), np.float32(-0.013035731), np.float32(2.396422e-05), np.float32(0.0014926717), np.float32(0.0072356355), np.float32(-0.018874452), np.float32(0.0020551393), np.float32(0.007975936), np.float32(-0.0011627551), np.float32(0.00774419), np.float32(-0.0023094167), np.float32(-0.023071636), np.float32(-0.014149401), np.float32(-0.018436708), np.float32(0.009244104), np.float32(0.014561394), np.float32(0.02016193), np.float32(0.016582737), np.float32(-0.0039589996), np.float32(-0.00833643), np.float32(0.0044965227), np.float32(0.005336603), np.float32(-0.031311505), np.float32(0.020496676), np.float32(-0.039036382), np.float32(0.012540052), np.float32(0.0022176837), np.float32(-0.002311026), np.float32(0.021385036), np.float32(-0.011400632), np.float32(-0.016299492), np.float32(0.02367675), np.float32(0.0062024333), np.float32(-0.024333365), np.float32(0.0019714532), np.float32(0.022930011), np.float32(0.0034633202), np.float32(0.010653893), np.float32(-0.031646248), np.float32(-0.017561221), np.float32(-0.007383696), np.float32(0.015591378), np.float32(-0.00097607047), np.float32(0.011838375), np.float32(0.007261385), np.float32(0.0058870004), np.float32(0.02276264), np.float32(-0.033294223), np.float32(0.01766422), np.float32(0.010982201), np.float32(0.01677586), np.float32(-0.008439429), np.float32(0.002840502), np.float32(-0.04601452), np.float32(0.006727081), np.float32(0.0039654374), np.float32(0.014574269), np.float32(-0.018488208), np.float32(0.049310468), np.float32(-0.012952045), np.float32(0.043877304), np.float32(0.015655752), np.float32(0.019106198), np.float32(-0.025183102), np.float32(-0.019106198), np.float32(0.024629485), np.float32(0.0065307403), np.float32(-0.044984538), np.float32(-0.004000843), np.float32(0.0049567963), np.float32(-0.0086583), np.float32(0.003508382), np.float32(-0.004696082), np.float32(0.0051595746), np.float32(-0.025183102), np.float32(0.0013084011), np.float32(-0.013177354), np.float32(0.017612722), np.float32(-0.028504798), np.float32(0.031980995), np.float32(-0.022286272), np.float32(0.0028372833), np.float32(0.026882574), np.float32(0.0442378), np.float32(-0.0017670657), np.float32(0.012128058), np.float32(0.005433164), np.float32(0.0045287097), np.float32(-0.061438527), np.float32(0.015655752), np.float32(0.011516505), np.float32(-0.003572756), np.float32(0.008986608), np.float32(0.0173166), np.float32(0.0011490756), np.float32(0.008420116), np.float32(0.030281521), np.float32(-0.0022820577), np.float32(0.017625596), np.float32(0.010080965), np.float32(0.012540052), np.float32(0.0016978637), np.float32(-0.022955762), np.float32(0.02303301), np.float32(0.0020631861), np.float32(-0.019234946), np.float32(-0.00066667306), np.float32(0.020522425), np.float32(-0.038650136), np.float32(-0.0039622183), np.float32(-0.011992873), np.float32(0.020625424), np.float32(-0.024243241), np.float32(-0.0045415843), np.float32(0.02021343), np.float32(-0.014445521), np.float32(-0.025916964), np.float32(0.0104157105), np.float32(0.00092054793), np.float32(0.015745876), np.float32(-0.001029179), np.float32(-0.014934763), np.float32(0.039036382), np.float32(0.01793459), np.float32(-0.00192961), np.float32(-0.017110605), np.float32(0.030281521), np.float32(0.002095373), np.float32(-0.017599847), np.float32(0.009656097), np.float32(-0.01608062), np.float32(-0.009128231), np.float32(-0.02018768), np.float32(0.03919088), np.float32(0.0050984193), np.float32(0.009244104), np.float32(-0.005252917), np.float32(0.08548865), np.float32(0.01892595), np.float32(0.006939515), np.float32(-0.009482288), np.float32(-0.0018153463), np.float32(0.015153635), np.float32(0.009488725), np.float32(-0.012868359), np.float32(-0.026547829), np.float32(-0.0080982465), np.float32(0.015359632), np.float32(-0.01702048), np.float32(-0.0033313534), np.float32(-0.046658263), np.float32(-0.023213258), np.float32(-0.002545991), np.float32(-0.008259182), np.float32(0.013505661), np.float32(-0.024771107), np.float32(0.008130434), np.float32(0.021256289), np.float32(-0.0046027396), np.float32(0.008284931), np.float32(-0.0039911866), np.float32(-0.029406033), np.float32(0.0092569785), np.float32(0.019183446), np.float32(-0.013492786), np.float32(-0.004718613), np.float32(-0.013660159), np.float32(-0.0026087556), np.float32(-0.0055812243), np.float32(-0.037568655), np.float32(-0.0062185265), np.float32(-0.004982546), np.float32(0.01935082), np.float32(-0.015321007), np.float32(0.011690315), np.float32(0.0035759746), np.float32(0.017419599), np.float32(-0.016273743), np.float32(0.0084265545), np.float32(-0.032495987), np.float32(-0.008947983), np.float32(-0.00425512), np.float32(-0.015681501), np.float32(0.0067592678), np.float32(0.0043548997), np.float32(-0.0027954401)]\n",
      "FAQ 데이터: {'question': '[가입절차] 스마트스토어센터 회원가입은 어떻게 하나요? (ID만들기)', 'answer': '네이버 커머스 ID 하나로 스마트스토어센터와 같은 네이버의 다양한 커머스 서비스를 편리하게 이용하실 수 있습니다.네이버 커머스 ID가 없으시다면 [가입하기] 버튼을 통해 회원가입해 주세요.\\xa0\\xa0 \\xa0 \\xa0 \\xa0 \\xa0\\xa01. \\'네이버ID\\' 로 네이버 커머스 ID 가입하기1) [네이버 아이디로 가입하기] 버튼을 눌러서 네이버 로그인 해 주세요.2) 연락가능한 휴대폰번호를 입력하시고 인증하신 후 개인정보 수집동의를 체크 하여 [가입] 버튼을 눌러주세요.\\xa03) 네이버 커머스 ID 회원가입이 완료되어 해당 네이버ID 로 스마트스토어센터 서비스 가입을 하실 수 있습니다.\\xa0이 후 스마트스토어센터 로그인 시에 [네이버 아이디로 로그인] 버튼을 눌러서 네이버 로그인을 하실 수 있습니다.\\xa02. \\'이메일 아이디\\'로 네이버 커머스 ID 가입하기\\xa01) [이메일 아이디로 가입하기] 버튼을 눌러서 사용할 ID를 입력해 주세요.! 중요. 로그인 ID는 \"실 사용중인 이메일주소\"로 기재하셔야 합니다. (예 : abc@naver.com)2) 연락가능한 휴대폰번호와 이메일주소를 입력하시고 인증하신 후 개인정보 수집동의를 체크 하여 [가입] 버튼을 눌러주세요.3) 네이버 커머스 ID 회원가입이 완료되어 해당 이메일 아이디로 스마트스토어센터 서비스 가입을 하실 수 있습니다.이 후 스마트스토어센터 로그인 시에 해당 이메일 아이디와 비밀번호를 입력하여 로그인을 하실 수 있습니다.\\xa0※ 참고. 로그인 ID 계정 대표자와 사업자번호 대표자 동일여부는 체크하지 않습니다. (대표자가 상이해도 가입 진행 가능합니다.)\\xa0 \\xa0\\xa0 \\xa0 \\xa0 \\xa0 \\xa0\\xa0\\n\\n\\n위 도움말이 도움이 되었나요?\\n\\n\\n별점1점\\n\\n별점2점\\n\\n별점3점\\n\\n별점4점\\n\\n별점5점\\n\\n\\n\\n소중한 의견을 남겨주시면 보완하도록 노력하겠습니다.\\n\\n보내기\\n\\n\\n\\n관련 도움말/키워드\\n\\n스마트스토어 로그인ID(매니저)를 추가하거나 변경할 수 없나요?\\n네이버 커머스 ID 전환 이후, 이전 아이디로 로그인이 불가한가요?\\n네이버 커머스 ID 전환 후 로그인이 되지 않아요.\\n\\n\\n\\n도움말 닫기'}\n"
     ]
    }
   ],
   "execution_count": 26
  },
  {
   "metadata": {
    "ExecuteTime": {
     "end_time": "2024-12-07T02:57:28.675084Z",
     "start_time": "2024-12-07T02:57:28.073457Z"
    }
   },
   "cell_type": "code",
   "source": [
    "\n",
    "\n",
    "# Step 7: 컬렉션 쿼리 및 결과 출력\n",
    "q1 = \"네이버 쇼핑윈도 노출 절차는 어떻게 되나요?\"\n",
    "data = generate_embeddings([q1])[0][0].embedding\n"
   ],
   "id": "b4f4182d77c1a6bd",
   "outputs": [],
   "execution_count": 20
  },
  {
   "metadata": {
    "ExecuteTime": {
     "end_time": "2024-12-07T02:57:30.199931Z",
     "start_time": "2024-12-07T02:57:30.158986Z"
    }
   },
   "cell_type": "code",
   "source": [
    "print(len(data))\n",
    "search_vector = [data]\n",
    "for float_data in search_vector:\n",
    "    print(type(float_data))\n",
    "print(type(search_vector))  # 데이터가 리스트인지 확인\n",
    "print(len(search_vector))   # 리스트 길이 확인\n",
    "search_param = {\n",
    "    \"metric_type\": \"IP\",  # 유사도 측정 방식\n",
    "    \"params\": {\"nprobe\": 10}  # 검색 정확도 조정\n",
    "}\n",
    "\n",
    "results = collection.search(\n",
    "    data=search_vector,\n",
    "    anns_field=\"embedding\",  \n",
    "    param=search_param,\n",
    "    limit=5, \n",
    "    output_fields=[\"faq\"]  # 반환할 추가 필드\n",
    ")\n",
    "\n",
    "# 결과 출력\n",
    "for i, result in enumerate(results[0]):\n",
    "    print(f\"Rank {i + 1}: id={result.id}, distance={result.distance}, faq={result.entity.get('faq')}\")"
   ],
   "id": "69f3e25f84db7c47",
   "outputs": [
    {
     "name": "stdout",
     "output_type": "stream",
     "text": [
      "1536\n",
      "<class 'list'>\n",
      "<class 'list'>\n",
      "1\n",
      "Rank 1: id=454422749880753141, distance=0.9636106491088867, faq={'question': '[가입절차][쇼핑윈도/패션타운] 네이버 쇼핑윈도 노출 절차는 어떻게 되나요?', 'answer': '네이버 쇼핑 윈도에 입점하기 위해서는, [노출관리 > 쇼핑윈도 노출제안] 을 통해 자세한 조건을 확인할 수 있습니다.아래 패션타운 및 윈도 서비스는 입점 신청 전, self 입점 체크를 통해 입점 가능여부를 확인하실 수 있습니다.패션타운 해외직구 self 입점 체크 바로 가기》패션타운 뷰티 self 입점 체크 바로 가기》패션타운 소호&스트릿윈도 self 입점 체크 바로 가기》\\xa0\\xa0키즈윈도(로드샵)\\xa0self 입점 체크 바로 가기》키즈윈도(브랜드)\\xa0self 입점 체크 바로 가기》네이버펫\\xa0self 입점 체크 바로 가기》리빙윈도(홈&데코/창작공방/문방구) self 입점 체크 바로 가기》\\xa0입점 기준 확인 및 self 체크가 완료되었다면 아래 메뉴를 통해 입점 신청해 주세요.\\xa0\\xa0\\xa0\\xa0\\xa0\\xa0\\xa0\\xa0\\xa0\\xa0 스마트스토어센터에서\\xa0입점 신청하기1) 사업자로 가입한 판매자만 입점이 가능합니다. 2) [노출관리 > 쇼핑윈도 노출제안] 메뉴를 선택하세요.3) \"소호&스트릿/ 뷰티(브랜드 본사, 공식 수입사만 가능)/ 해외직구(해외직구 서비스 지역의 현지 해외 사업자)/\\xa0\\xa0 \\xa0리빙 윈도(리빙 상품군) / 키즈 윈도(유아동) / 플레이 윈도(디지털, 스포츠/레저, 키덜트 상품군) / 아트 윈도(담당자와 사전 협의된 작가, 갤러리) /\\xa0 \\xa0네이버 펫 윈도(강아지/고양이 관련 브랜드 본사, 공식 수입사) / 푸드 윈도(산지직송, 지역명물, 간편집밥, 전통주 등 다양한 푸드 상품군)\" 중에서 원하는 윈도를 선택해 주세요.4) 각 윈도 특성에 따라 가입 조건이 있습니다. 하단의 가입조건에 따라 필요한 정보를 입력해 주세요.\\xa0 정보 입력 후 \"채널 추가 요청\"을 하시면 심사 담당자를 통해 영업일 3일 이내로 심사 결과를 전달해 드립니다. \\xa0\\xa0\\xa0\\xa0\\xa0\\xa0\\xa0\\xa0\\xa0\\xa0 \\n\\n\\n위 도움말이 도움이 되었나요?\\n\\n\\n별점1점\\n\\n별점2점\\n\\n별점3점\\n\\n별점4점\\n\\n별점5점\\n\\n\\n\\n소중한 의견을 남겨주시면 보완하도록 노력하겠습니다.\\n\\n보내기\\n\\n\\n\\n도움말 닫기'}\n",
      "Rank 2: id=454422749880753284, distance=0.9574675559997559, faq={'question': \"'네이버쇼핑'에 상품 노출은 어떻게하나요?\", 'answer': \"상품등록 시 '가격비교 사이트 등록' 설정영역에서 '네이버쇼핑'을 선택하면 네이버쇼핑에 상품이 노출됩니다. 단, '가격비교 사이트 등록' 설정 영역은 네이버쇼핑에 입점되어야 노출됩니다. \\xa0\\xa0\\xa0\\xa0\\xa0\\xa0\\xa0\\xa0\\xa0 네이버쇼핑 노출 설정 방법1. [상품관리 > 상품등록] 메뉴로 접속합니다. 2. 노출 채널에서 노출하고자 하는 채널을 선택해 주세요. 3. 하단 '가격비교 사이트 등록' 항목에서 '네이버쇼핑'을 선택해 주세요.\\xa0\\xa0\\xa0\\xa0\\xa0\\xa0\\xa0\\xa0\\xa0 가격비교 매칭 요청 방법가격비교 매칭 가능 상품들은 카테고리 매칭 작업이 완료되면 각 네이버쇼핑 담당자가 확인하여 가격비교 등록해 드리고 있습니다.\\u200b가격비교 매칭을 원할 경우, [쇼핑파트너센터 > 상품관리 > 상품현황 및 관리 > 서비스 상품]을 통해 직접 가격비교 매칭을 요청할 수 있습니다.가격비교 매칭 방법 확인하기》단, 매칭 요청 시 내부 기준에 의해 검수되며, 매칭 반영 보장은 어려운 점 참고 부탁드립니다.\\xa0\\xa0\\xa0\\xa0\\xa0\\xa0\\xa0\\xa0\\xa0 ※ 참고.\\xa0\\xa0· '네이버쇼핑' 입점 신청이 안되어 있는 경우, 상품등록 시 '가격비교 사이트 등록' 항목이 노출되지 않습니다. \\xa0·\\xa0'가격비교 사이트 등록' 항목이 안보이는 경우, [노출관리 >\\xa0노출 서비스 관리] 메뉴에서 '네이버 쇼핑' 입점신청을 해주세요.\\xa0\\xa0 ON으로 설정 시 '연동 요청 중'상태로 변경되며, 연동완료는 최대 3시간 정도 소요됩니다.\\xa0· 네이버쇼핑에 상품 최초 등록 시 서비스 반영은\\xa0최대\\xa02~8시간 정도 소요됩니다. (지연시 최대 1~2일)\\xa0\\n\\n\\n위 도움말이 도움이 되었나요?\\n\\n\\n별점1점\\n\\n별점2점\\n\\n별점3점\\n\\n별점4점\\n\\n별점5점\\n\\n\\n\\n소중한 의견을 남겨주시면 보완하도록 노력하겠습니다.\\n\\n보내기\\n\\n\\n\\n도움말 닫기\"}\n",
      "Rank 3: id=454422749880754595, distance=0.9358738660812378, faq={'question': '네이버 쇼핑에 노출되는 구매건수 집계기준은 어떻게 되나요?', 'answer': '네이버 쇼핑에 노출되는 구매건수 집계 기준은 아래와 같습니다.\\u200b\\xa0 \\xa0 \\xa0 \\xa0 \\xa0\\xa0\\xa0구매건수 집계 기준·\\xa0상품주문번호 수 기준 (결제건 기준)·\\xa0최근 6개월 (어제부터 ~180일, 어제 포함 180일로 계산)·\\xa0추가주문상품 건수 제외\\xa0·\\xa0취소/반품 주문건수 차감 (취소완료, 반품환불완료, 직권취소완료 모두 포함)·\\xa0부정거래 주문건수 차감·\\xa0매일 1회 집계\\u200b\\xa0 \\xa0 \\xa0 \\xa0 \\xa0\\xa0만약,\\xa0구매건수가 미노출 된다면,\\xa0[쇼핑파트너센터 > 정보관리 > 정보수정] 메뉴 하단 \\'상품 구매건수 노출여부\\' 항목을 \"노출Y\"로 설정해 주시기 바랍니다. (업데이트 소요일 2일)\\xa0※ 참고.\\xa0통합검색은 구매건수 11건 이상, 쇼핑검색은 1건 이상인 경우 노출됩니다.\\xa0구매건수 노출 노출 예시)\\xa0\\n\\n\\n위 도움말이 도움이 되었나요?\\n\\n\\n별점1점\\n\\n별점2점\\n\\n별점3점\\n\\n별점4점\\n\\n별점5점\\n\\n\\n\\n소중한 의견을 남겨주시면 보완하도록 노력하겠습니다.\\n\\n보내기\\n\\n\\n\\n도움말 닫기'}\n",
      "Rank 4: id=454422749880753196, distance=0.9307207465171814, faq={'question': '[네이버쇼핑] 네이버쇼핑 입점 신청은 어떻게 하나요?', 'answer': '스마트스토어\\xa0판매회원 가입 시 간단한 약관 동의 과정을 거쳐 네이버쇼핑 광고주로도 가입이 가능합니다.만약, 네이버쇼핑에 입점 신청을 하지\\xa0못하셨다면\\xa0[노출관리 > 노출 서비스 관리]에서 간단한 약관 동의 절차를 거쳐 가입 가능합니다. 아래 버튼을 눌러 초록색으로 변경되면 네이버쇼핑 입점 팝업이 확인되며,약관동의 및 대행사 정보 입력 후 \"확인\" 버튼을 클릭해 주세요.※ 참고. \\xa0· 이 경우 스마트스토어 판매회원과 네이버쇼핑 광고주 로그인 아이디는 동일합니다.\\xa0· ON으로 설정 시 \\'연동 요청 중\\' 상태로 변경되며, 연동완료는 최대 3시간 정도 소요됩니다.\\n\\n\\n위 도움말이 도움이 되었나요?\\n\\n\\n별점1점\\n\\n별점2점\\n\\n별점3점\\n\\n별점4점\\n\\n별점5점\\n\\n\\n\\n소중한 의견을 남겨주시면 보완하도록 노력하겠습니다.\\n\\n보내기\\n\\n\\n\\n관련 도움말/키워드\\n\\n등록한 상품이 \\'네이버쇼핑\\'에 노출되지 않아요. 왜 그런가요?\\n[네이버쇼핑] 네이버쇼핑까지 입점할 경우 수수료는 어떻게 되나요?\\n\\n\\n\\n도움말 닫기'}\n",
      "Rank 5: id=454422749880754588, distance=0.9297152161598206, faq={'question': '네이버 검색결과에 스토어 노출은 어떻게 하나요?', 'answer': '네이버 사이트 검색 결과에 스토어 노출은 [노출관리 >\\xa0노출 서비스 관리] \\'웹사이트 검색 등록\\'에서 채널별로 설정이 가능합니다. 네이버 사이트 검색 설정은 계정/채널이 정상인 상태에서\\xa0 변경할 수 있습니다.다만, 설정에 따른 사이트 검색의 노출 여부 및 순서, 위치는 보장되지 않으며 네이버 검색 운영 정책 및 컨텐츠 품질, 이용자의 선호도 요소 등을 종합적으로 고려하여 자동 반영되고 있습니다. \\xa0\\xa0\\xa0\\xa0\\xa0\\xa0\\xa0\\xa0\\xa0 \\xa0네이버 사이트 검색등록 설정 방법1. [노출관리 >\\xa0노출 서비스 관리] 메뉴로 접속합니다. 2. 웹사이트 검색등록설정이 필요한 스토어명 우측 설정안함을\\xa0\\'설정함\\'으로 변경해 주세요. (녹색으로 변경)! 주의.\\xa0\"스토어에 \\'전시중\\'상품을 1개 이상 등록 후 설정하실 수 있습니다.\" 문구가 노출될 경우 [상품관리 > 상품등록]메뉴를 통해 상품 등록 먼저 진행해 주세요.\\xa0\\xa0\\xa0\\xa0\\xa0\\xa0\\xa0\\xa0\\xa0\\xa0 ※ 참고.\\xa0\\xa0·\\xa0계정 부매니저는 노출서비스 관리 메뉴 접속이 불가합니다. 통합매니저 또는 계정 주매니저 권한으로 접속해 주세요.\\xa0 \\xa0\\xa0·\\xa0웹사이트\\xa0검색등록 설정은\\xa0최초 상품등록후 최대 2시간 이후 활성화 할 수 있습니다.\\xa0\\xa0· 개인 도메인이 등록된 스마트스토어는 개인도메인으로 등록됩니다.\\xa0·\\xa0웹사이트 검색 등록 설정 후\\xa0반영까지 최대 1영업일 소요될 수 있습니다.\\xa0\\xa0\\xa0·\\xa0설정함으로 진행했더라도 채널상태가 변경되거나 채널에 전시되는 상품이 없는 경우 자동으로 설정안함으로 변경됩니다. \\xa0\\xa0·\\xa0양도양수 이후에는 스토어의 유효상품수 판단 후 적용되며, 웹사이트 검색 등록 설정까지 최대 4시간 소요될 수 있습니다.\\n\\n\\n위 도움말이 도움이 되었나요?\\n\\n\\n별점1점\\n\\n별점2점\\n\\n별점3점\\n\\n별점4점\\n\\n별점5점\\n\\n\\n\\n소중한 의견을 남겨주시면 보완하도록 노력하겠습니다.\\n\\n보내기\\n\\n\\n\\n도움말 닫기'}\n"
     ]
    }
   ],
   "execution_count": 21
  },
  {
   "metadata": {
    "ExecuteTime": {
     "end_time": "2024-12-07T02:53:25.276687Z",
     "start_time": "2024-12-07T02:53:24.943940Z"
    }
   },
   "cell_type": "code",
   "source": [
    "## show token usage\n",
    "import requests\n",
    "import datetime\n",
    "\n",
    "# OpenAI API Key\n",
    "api_key = os.getenv(\"OPEN_API_KEY\")\n",
    "\n",
    "# 현재 날짜 및 시간\n",
    "end_date = datetime.datetime.now().strftime('%Y-%m-%d')\n",
    "start_date = (datetime.datetime.now() - datetime.timedelta(days=3)).strftime('%Y-%m-%d')  #\n",
    "\n",
    "# Usage API 엔드포인트\n",
    "url = f\"https://api.openai.com/v1/usage?start_date={start_date}&end_date={end_date}\"\n",
    "\n",
    "# API 요청\n",
    "response = requests.get(\n",
    "    url,\n",
    "    headers={\n",
    "        \"Authorization\": f\"Bearer {api_key}\"\n",
    "    }\n",
    ")\n",
    "\n",
    "# 결과 확인\n",
    "if response.status_code == 200:\n",
    "    usage_data = response.json()\n",
    "    print(\"사용량 데이터:\", usage_data)\n",
    "else:\n",
    "    print(f\"API 요청 실패: {response.status_code}, {response.text}\")\n"
   ],
   "id": "d7b049a40abf5a67",
   "outputs": [
    {
     "name": "stdout",
     "output_type": "stream",
     "text": [
      "API 요청 실패: 400, {\n",
      "  \"error\": {\n",
      "    \"message\": \"Missing query parameter 'date'\",\n",
      "    \"type\": \"invalid_request_error\",\n",
      "    \"param\": null,\n",
      "    \"code\": null\n",
      "  }\n",
      "}\n",
      "\n"
     ]
    }
   ],
   "execution_count": 16
  },
  {
   "metadata": {},
   "cell_type": "code",
   "outputs": [],
   "execution_count": null,
   "source": "",
   "id": "9f1155095f963461"
  }
 ],
 "metadata": {
  "kernelspec": {
   "display_name": "Python 3",
   "language": "python",
   "name": "python3"
  },
  "language_info": {
   "codemirror_mode": {
    "name": "ipython",
    "version": 2
   },
   "file_extension": ".py",
   "mimetype": "text/x-python",
   "name": "python",
   "nbconvert_exporter": "python",
   "pygments_lexer": "ipython2",
   "version": "2.7.6"
  }
 },
 "nbformat": 4,
 "nbformat_minor": 5
}
